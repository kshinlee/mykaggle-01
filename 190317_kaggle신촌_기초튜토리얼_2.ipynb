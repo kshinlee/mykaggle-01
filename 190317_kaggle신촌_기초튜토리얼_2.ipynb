{
  "nbformat": 4,
  "nbformat_minor": 0,
  "metadata": {
    "colab": {
      "name": "190317_kaggle신촌_기초튜토리얼_2.ipynb",
      "version": "0.3.2",
      "provenance": [],
      "collapsed_sections": [],
      "include_colab_link": true
    },
    "kernelspec": {
      "name": "python3",
      "display_name": "Python 3"
    }
  },
  "cells": [
    {
      "cell_type": "markdown",
      "metadata": {
        "id": "view-in-github",
        "colab_type": "text"
      },
      "source": [
        "<a href=\"https://colab.research.google.com/github/kshinlee/mykaggle-01/blob/master/190317_kaggle%EC%8B%A0%EC%B4%8C_%EA%B8%B0%EC%B4%88%ED%8A%9C%ED%86%A0%EB%A6%AC%EC%96%BC_2.ipynb\" target=\"_parent\"><img src=\"https://colab.research.google.com/assets/colab-badge.svg\" alt=\"Open In Colab\"/></a>"
      ]
    },
    {
      "metadata": {
        "id": "owqR5lia6RWP",
        "colab_type": "code",
        "outputId": "a6c9ae07-d997-406e-f74e-ccce85fba385",
        "colab": {
          "base_uri": "https://localhost:8080/",
          "height": 53
        }
      },
      "cell_type": "code",
      "source": [
        "a =1\n",
        "b = 2\n",
        "print(a)\n",
        "print(b)"
      ],
      "execution_count": 0,
      "outputs": [
        {
          "output_type": "stream",
          "text": [
            "1\n",
            "2\n"
          ],
          "name": "stdout"
        }
      ]
    },
    {
      "metadata": {
        "id": "19gpkVgQCCQM",
        "colab_type": "code",
        "outputId": "c7974a3c-4b94-43b1-83b0-9232b500f29d",
        "colab": {
          "base_uri": "https://localhost:8080/",
          "height": 35
        }
      },
      "cell_type": "code",
      "source": [
        "a = 3.141592\n",
        "print(\"원주율은 %f이다\"%a)"
      ],
      "execution_count": 0,
      "outputs": [
        {
          "output_type": "stream",
          "text": [
            "원주율은 3.141592이다\n"
          ],
          "name": "stdout"
        }
      ]
    },
    {
      "metadata": {
        "id": "9LkQEvylBh9o",
        "colab_type": "code",
        "outputId": "b8e659cd-2ad9-412d-86b8-b667153cb830",
        "colab": {
          "base_uri": "https://localhost:8080/",
          "height": 34
        }
      },
      "cell_type": "code",
      "source": [
        "a = 3.141592\n",
        "print(\"원주율은 %.2f이다\"%a)"
      ],
      "execution_count": 0,
      "outputs": [
        {
          "output_type": "stream",
          "text": [
            "원주율은 3.14이다\n"
          ],
          "name": "stdout"
        }
      ]
    },
    {
      "metadata": {
        "id": "I0PyN_a_-U8e",
        "colab_type": "text"
      },
      "cell_type": "markdown",
      "source": [
        "# Python 자료형 (Container)"
      ]
    },
    {
      "metadata": {
        "id": "ozGnSKj7-R2I",
        "colab_type": "text"
      },
      "cell_type": "markdown",
      "source": [
        "### 리스트"
      ]
    },
    {
      "metadata": {
        "id": "w4Yhu3rp77iH",
        "colab_type": "code",
        "colab": {}
      },
      "cell_type": "code",
      "source": [
        "a = [1,2,3]\n",
        "b = [4,5,6]"
      ],
      "execution_count": 0,
      "outputs": []
    },
    {
      "metadata": {
        "id": "hgSun27XNoDu",
        "colab_type": "code",
        "colab": {}
      },
      "cell_type": "code",
      "source": [
        "c = list('hello')"
      ],
      "execution_count": 0,
      "outputs": []
    },
    {
      "metadata": {
        "id": "oxmH9AgfNvHL",
        "colab_type": "code",
        "colab": {}
      },
      "cell_type": "code",
      "source": [
        "d = [a, b]"
      ],
      "execution_count": 0,
      "outputs": []
    },
    {
      "metadata": {
        "id": "-KjT-2zL8GF8",
        "colab_type": "code",
        "colab": {}
      },
      "cell_type": "code",
      "source": [
        "a in d"
      ],
      "execution_count": 0,
      "outputs": []
    },
    {
      "metadata": {
        "id": "FjfUWrj78HmM",
        "colab_type": "code",
        "colab": {}
      },
      "cell_type": "code",
      "source": [
        "[1,2,3] in d"
      ],
      "execution_count": 0,
      "outputs": []
    },
    {
      "metadata": {
        "id": "aYGpnZvc8JB9",
        "colab_type": "code",
        "colab": {}
      },
      "cell_type": "code",
      "source": [
        "1 in d"
      ],
      "execution_count": 0,
      "outputs": []
    },
    {
      "metadata": {
        "id": "IVLsPFhD8KId",
        "colab_type": "code",
        "colab": {}
      },
      "cell_type": "code",
      "source": [
        "d[0][1]"
      ],
      "execution_count": 0,
      "outputs": []
    },
    {
      "metadata": {
        "id": "dJzTOLfiOJAE",
        "colab_type": "code",
        "outputId": "d5d90d03-4342-43aa-aed9-200764d6f699",
        "colab": {
          "base_uri": "https://localhost:8080/",
          "height": 208
        }
      },
      "cell_type": "code",
      "source": [
        "e = [1,3,5,7,9]\n",
        "e[6] = 55\n",
        "e"
      ],
      "execution_count": 0,
      "outputs": [
        {
          "output_type": "error",
          "ename": "IndexError",
          "evalue": "ignored",
          "traceback": [
            "\u001b[0;31m---------------------------------------------------------------------------\u001b[0m",
            "\u001b[0;31mIndexError\u001b[0m                                Traceback (most recent call last)",
            "\u001b[0;32m<ipython-input-9-07ce3a42681f>\u001b[0m in \u001b[0;36m<module>\u001b[0;34m()\u001b[0m\n\u001b[1;32m      1\u001b[0m \u001b[0me\u001b[0m \u001b[0;34m=\u001b[0m \u001b[0;34m[\u001b[0m\u001b[0;36m1\u001b[0m\u001b[0;34m,\u001b[0m\u001b[0;36m3\u001b[0m\u001b[0;34m,\u001b[0m\u001b[0;36m5\u001b[0m\u001b[0;34m,\u001b[0m\u001b[0;36m7\u001b[0m\u001b[0;34m,\u001b[0m\u001b[0;36m9\u001b[0m\u001b[0;34m]\u001b[0m\u001b[0;34m\u001b[0m\u001b[0;34m\u001b[0m\u001b[0m\n\u001b[0;32m----> 2\u001b[0;31m \u001b[0me\u001b[0m\u001b[0;34m[\u001b[0m\u001b[0;36m6\u001b[0m\u001b[0;34m]\u001b[0m \u001b[0;34m=\u001b[0m \u001b[0;36m55\u001b[0m\u001b[0;34m\u001b[0m\u001b[0;34m\u001b[0m\u001b[0m\n\u001b[0m\u001b[1;32m      3\u001b[0m \u001b[0me\u001b[0m\u001b[0;34m\u001b[0m\u001b[0;34m\u001b[0m\u001b[0m\n",
            "\u001b[0;31mIndexError\u001b[0m: list assignment index out of range"
          ]
        }
      ]
    },
    {
      "metadata": {
        "id": "hxxxZoSH8Pn5",
        "colab_type": "code",
        "colab": {}
      },
      "cell_type": "code",
      "source": [
        "e[3] = 55"
      ],
      "execution_count": 0,
      "outputs": []
    },
    {
      "metadata": {
        "id": "gdixaRFBOdF1",
        "colab_type": "code",
        "outputId": "81c10c9f-e60f-4658-a9b2-601968ff103c",
        "colab": {
          "base_uri": "https://localhost:8080/",
          "height": 35
        }
      },
      "cell_type": "code",
      "source": [
        "c = list('hello')\n",
        "c[1:4]"
      ],
      "execution_count": 0,
      "outputs": [
        {
          "output_type": "execute_result",
          "data": {
            "text/plain": [
              "['e', 'l', 'l']"
            ]
          },
          "metadata": {
            "tags": []
          },
          "execution_count": 11
        }
      ]
    },
    {
      "metadata": {
        "id": "qHiKVL_6OtFv",
        "colab_type": "code",
        "outputId": "9e263842-5fd9-4a0b-b73f-e501f57bd469",
        "colab": {
          "base_uri": "https://localhost:8080/",
          "height": 35
        }
      },
      "cell_type": "code",
      "source": [
        "c[-1:-3]"
      ],
      "execution_count": 0,
      "outputs": [
        {
          "output_type": "execute_result",
          "data": {
            "text/plain": [
              "[]"
            ]
          },
          "metadata": {
            "tags": []
          },
          "execution_count": 15
        }
      ]
    },
    {
      "metadata": {
        "id": "1KvbIX9kPUx8",
        "colab_type": "code",
        "colab": {}
      },
      "cell_type": "code",
      "source": [
        "a = list(range(1,10))"
      ],
      "execution_count": 0,
      "outputs": []
    },
    {
      "metadata": {
        "id": "dSd8MXEoPU4T",
        "colab_type": "code",
        "outputId": "ec1b91d8-7659-479c-8006-62c0684a6ebc",
        "colab": {
          "base_uri": "https://localhost:8080/",
          "height": 35
        }
      },
      "cell_type": "code",
      "source": [
        "a[::-2]"
      ],
      "execution_count": 0,
      "outputs": [
        {
          "output_type": "execute_result",
          "data": {
            "text/plain": [
              "[19, 17, 15, 13, 11, 9, 7, 5, 3, 1]"
            ]
          },
          "metadata": {
            "tags": []
          },
          "execution_count": 17
        }
      ]
    },
    {
      "metadata": {
        "id": "SOAMKXpzPVHz",
        "colab_type": "code",
        "outputId": "d51e926e-6b3f-4606-e146-12ac128d23c0",
        "colab": {
          "base_uri": "https://localhost:8080/",
          "height": 35
        }
      },
      "cell_type": "code",
      "source": [
        "a"
      ],
      "execution_count": 0,
      "outputs": [
        {
          "output_type": "execute_result",
          "data": {
            "text/plain": [
              "[1, 2, 3, 4, 5, 6, 7, 8, 9, 10, 11, 12, 13, 14, 15, 16, 17, 18, 19]"
            ]
          },
          "metadata": {
            "tags": []
          },
          "execution_count": 18
        }
      ]
    },
    {
      "metadata": {
        "id": "_Jhq9PMiPU2v",
        "colab_type": "code",
        "colab": {}
      },
      "cell_type": "code",
      "source": [
        "a.append('number')"
      ],
      "execution_count": 0,
      "outputs": []
    },
    {
      "metadata": {
        "id": "ZCMA39YH6Qek",
        "colab_type": "code",
        "colab": {}
      },
      "cell_type": "code",
      "source": [
        "a.append(200,300)"
      ],
      "execution_count": 0,
      "outputs": []
    },
    {
      "metadata": {
        "id": "C4t3cr11PUv6",
        "colab_type": "code",
        "colab": {}
      },
      "cell_type": "code",
      "source": [
        "a.append([200,300])"
      ],
      "execution_count": 0,
      "outputs": []
    },
    {
      "metadata": {
        "id": "QQh_76jHQHCP",
        "colab_type": "code",
        "outputId": "d14e3d69-8c08-4b50-89af-55ee272f05af",
        "colab": {
          "base_uri": "https://localhost:8080/",
          "height": 35
        }
      },
      "cell_type": "code",
      "source": [
        "len(a)"
      ],
      "execution_count": 0,
      "outputs": [
        {
          "output_type": "execute_result",
          "data": {
            "text/plain": [
              "21"
            ]
          },
          "metadata": {
            "tags": []
          },
          "execution_count": 24
        }
      ]
    },
    {
      "metadata": {
        "id": "0b075EnxQHFp",
        "colab_type": "code",
        "outputId": "4b3fc1e5-5c06-44da-b4ee-fff62e2f865c",
        "colab": {
          "base_uri": "https://localhost:8080/",
          "height": 434
        }
      },
      "cell_type": "code",
      "source": [
        "a.extend([500,600])\n",
        "a"
      ],
      "execution_count": 0,
      "outputs": [
        {
          "output_type": "execute_result",
          "data": {
            "text/plain": [
              "[1,\n",
              " 2,\n",
              " 3,\n",
              " 4,\n",
              " 5,\n",
              " 6,\n",
              " 7,\n",
              " 8,\n",
              " 9,\n",
              " 10,\n",
              " 11,\n",
              " 12,\n",
              " 13,\n",
              " 14,\n",
              " 15,\n",
              " 16,\n",
              " 17,\n",
              " 18,\n",
              " 19,\n",
              " 'number',\n",
              " [200, 300],\n",
              " 500,\n",
              " 600]"
            ]
          },
          "metadata": {
            "tags": []
          },
          "execution_count": 25
        }
      ]
    },
    {
      "metadata": {
        "id": "n2dul2axQPFb",
        "colab_type": "code",
        "outputId": "2544eccc-718d-47ae-ec00-8363b4750457",
        "colab": {
          "base_uri": "https://localhost:8080/",
          "height": 470
        }
      },
      "cell_type": "code",
      "source": [
        "a += [700,800]\n",
        "a"
      ],
      "execution_count": 0,
      "outputs": [
        {
          "output_type": "execute_result",
          "data": {
            "text/plain": [
              "[1,\n",
              " 2,\n",
              " 3,\n",
              " 4,\n",
              " 5,\n",
              " 6,\n",
              " 7,\n",
              " 8,\n",
              " 9,\n",
              " 10,\n",
              " 11,\n",
              " 12,\n",
              " 13,\n",
              " 14,\n",
              " 15,\n",
              " 16,\n",
              " 17,\n",
              " 18,\n",
              " 19,\n",
              " 'number',\n",
              " [200, 300],\n",
              " 500,\n",
              " 600,\n",
              " 700,\n",
              " 800]"
            ]
          },
          "metadata": {
            "tags": []
          },
          "execution_count": 26
        }
      ]
    },
    {
      "metadata": {
        "id": "wA37ITFOQPI5",
        "colab_type": "code",
        "colab": {}
      },
      "cell_type": "code",
      "source": [
        "a.insert(0,500)\n",
        "a"
      ],
      "execution_count": 0,
      "outputs": []
    },
    {
      "metadata": {
        "id": "fReQYV3ZQPSC",
        "colab_type": "code",
        "colab": {}
      },
      "cell_type": "code",
      "source": [
        "a.remove('3')\n",
        "a"
      ],
      "execution_count": 0,
      "outputs": []
    },
    {
      "metadata": {
        "id": "DsPWDGr68pnx",
        "colab_type": "code",
        "colab": {}
      },
      "cell_type": "code",
      "source": [
        "a.remove(3)\n",
        "a"
      ],
      "execution_count": 0,
      "outputs": []
    },
    {
      "metadata": {
        "id": "n82szvMBQPX-",
        "colab_type": "code",
        "outputId": "38cb342b-2386-4c6c-ad73-5eccd8f1791c",
        "colab": {
          "base_uri": "https://localhost:8080/",
          "height": 35
        }
      },
      "cell_type": "code",
      "source": [
        "a.pop()\n",
        "a"
      ],
      "execution_count": 0,
      "outputs": [
        {
          "output_type": "execute_result",
          "data": {
            "text/plain": [
              "800"
            ]
          },
          "metadata": {
            "tags": []
          },
          "execution_count": 32
        }
      ]
    },
    {
      "metadata": {
        "id": "s6UeHwZuQPVy",
        "colab_type": "code",
        "outputId": "425b24c3-4b27-468f-d2e3-942853eb8496",
        "colab": {
          "base_uri": "https://localhost:8080/",
          "height": 35
        }
      },
      "cell_type": "code",
      "source": [
        "a.pop(0)\n",
        "a"
      ],
      "execution_count": 0,
      "outputs": [
        {
          "output_type": "execute_result",
          "data": {
            "text/plain": [
              "500"
            ]
          },
          "metadata": {
            "tags": []
          },
          "execution_count": 34
        }
      ]
    },
    {
      "metadata": {
        "id": "xObQFmtMQPPF",
        "colab_type": "code",
        "colab": {}
      },
      "cell_type": "code",
      "source": [
        "a.clear()\n",
        "a"
      ],
      "execution_count": 0,
      "outputs": []
    },
    {
      "metadata": {
        "id": "jajWx7AhQPMj",
        "colab_type": "code",
        "colab": {}
      },
      "cell_type": "code",
      "source": [
        "b = [99, 8 ,72, -5, 5]"
      ],
      "execution_count": 0,
      "outputs": []
    },
    {
      "metadata": {
        "id": "sfoAie2ZQHQW",
        "colab_type": "code",
        "outputId": "5cd53d23-0afa-4fd5-d9c6-e732a89044ec",
        "colab": {
          "base_uri": "https://localhost:8080/",
          "height": 53
        }
      },
      "cell_type": "code",
      "source": [
        "print(sorted(b))\n",
        "print(b)"
      ],
      "execution_count": 0,
      "outputs": [
        {
          "output_type": "stream",
          "text": [
            "[-5, 5, 8, 72, 99]\n",
            "[99, 8, 72, -5, 5]\n"
          ],
          "name": "stdout"
        }
      ]
    },
    {
      "metadata": {
        "id": "b7abEfLF82AP",
        "colab_type": "code",
        "colab": {}
      },
      "cell_type": "code",
      "source": [
        "b = sorted(b)"
      ],
      "execution_count": 0,
      "outputs": []
    },
    {
      "metadata": {
        "id": "ke0ICyrlRj3z",
        "colab_type": "code",
        "outputId": "23255e4c-c349-41b5-d173-9ffe7771e726",
        "colab": {
          "base_uri": "https://localhost:8080/",
          "height": 35
        }
      },
      "cell_type": "code",
      "source": [
        "b = [99, 8 ,72, -5, 5]\n",
        "b.sort()\n",
        "b"
      ],
      "execution_count": 0,
      "outputs": [
        {
          "output_type": "execute_result",
          "data": {
            "text/plain": [
              "[-5, 5, 8, 72, 99]"
            ]
          },
          "metadata": {
            "tags": []
          },
          "execution_count": 42
        }
      ]
    },
    {
      "metadata": {
        "id": "topWGmtxR3go",
        "colab_type": "code",
        "colab": {}
      },
      "cell_type": "code",
      "source": [
        "c = ['E','X','c','k','a','W','z']"
      ],
      "execution_count": 0,
      "outputs": []
    },
    {
      "metadata": {
        "id": "oKbNC3c5R5jC",
        "colab_type": "code",
        "outputId": "455cceb1-011c-43d5-8255-9da6dcaefb98",
        "colab": {
          "base_uri": "https://localhost:8080/",
          "height": 35
        }
      },
      "cell_type": "code",
      "source": [
        "c.sort()\n",
        "c"
      ],
      "execution_count": 0,
      "outputs": [
        {
          "output_type": "execute_result",
          "data": {
            "text/plain": [
              "['a', 'c', 'E', 'k', 'W', 'X', 'z']"
            ]
          },
          "metadata": {
            "tags": []
          },
          "execution_count": 46
        }
      ]
    },
    {
      "metadata": {
        "id": "w72krc0N6hEl",
        "colab_type": "code",
        "colab": {}
      },
      "cell_type": "code",
      "source": [
        "c.sort(key=str.lower)\n",
        "c"
      ],
      "execution_count": 0,
      "outputs": []
    },
    {
      "metadata": {
        "id": "OdIEBwG8R5m_",
        "colab_type": "code",
        "outputId": "b52f1f24-6fdf-48ba-a021-bd9396864361",
        "colab": {
          "base_uri": "https://localhost:8080/",
          "height": 52
        }
      },
      "cell_type": "code",
      "source": [
        "b = [-5, 5, 8, 72, 99]\n",
        "b.reverse()\n",
        "print(b)"
      ],
      "execution_count": 0,
      "outputs": [
        {
          "output_type": "stream",
          "text": [
            "None\n",
            "[99, 72, 8, 5, -5]\n"
          ],
          "name": "stdout"
        }
      ]
    },
    {
      "metadata": {
        "id": "oUXAcWYq9hJ5",
        "colab_type": "code",
        "outputId": "a3927e20-ed1c-4083-ffa3-4e7c1a59a497",
        "colab": {
          "base_uri": "https://localhost:8080/",
          "height": 52
        }
      },
      "cell_type": "code",
      "source": [
        "b = [-5, 5, 8, 72, 99]\n",
        "print(b[::-1])\n",
        "print(b)"
      ],
      "execution_count": 0,
      "outputs": [
        {
          "output_type": "stream",
          "text": [
            "[99, 72, 8, 5, -5]\n",
            "[-5, 5, 8, 72, 99]\n"
          ],
          "name": "stdout"
        }
      ]
    },
    {
      "metadata": {
        "id": "4LBR8uwQ-N9y",
        "colab_type": "text"
      },
      "cell_type": "markdown",
      "source": [
        "### 튜플"
      ]
    },
    {
      "metadata": {
        "id": "CSWme532R5vB",
        "colab_type": "code",
        "outputId": "8351ea40-61bb-404c-ae47-45bb3f2cd524",
        "colab": {
          "base_uri": "https://localhost:8080/",
          "height": 35
        }
      },
      "cell_type": "code",
      "source": [
        "t0 = (0,2,4,7)\n",
        "t0"
      ],
      "execution_count": 0,
      "outputs": [
        {
          "output_type": "execute_result",
          "data": {
            "text/plain": [
              "(0, 2, 4, 7)"
            ]
          },
          "metadata": {
            "tags": []
          },
          "execution_count": 51
        }
      ]
    },
    {
      "metadata": {
        "id": "YKkDL8_wSdEk",
        "colab_type": "code",
        "outputId": "e4921aea-f882-4e25-c648-c81ae5d9ae84",
        "colab": {
          "base_uri": "https://localhost:8080/",
          "height": 172
        }
      },
      "cell_type": "code",
      "source": [
        "t0.append(8)"
      ],
      "execution_count": 0,
      "outputs": [
        {
          "output_type": "error",
          "ename": "AttributeError",
          "evalue": "ignored",
          "traceback": [
            "\u001b[0;31m---------------------------------------------------------------------------\u001b[0m",
            "\u001b[0;31mAttributeError\u001b[0m                            Traceback (most recent call last)",
            "\u001b[0;32m<ipython-input-52-8945bdac854b>\u001b[0m in \u001b[0;36m<module>\u001b[0;34m()\u001b[0m\n\u001b[0;32m----> 1\u001b[0;31m \u001b[0mt0\u001b[0m\u001b[0;34m.\u001b[0m\u001b[0mappend\u001b[0m\u001b[0;34m(\u001b[0m\u001b[0;36m8\u001b[0m\u001b[0;34m)\u001b[0m\u001b[0;34m\u001b[0m\u001b[0;34m\u001b[0m\u001b[0m\n\u001b[0m",
            "\u001b[0;31mAttributeError\u001b[0m: 'tuple' object has no attribute 'append'"
          ]
        }
      ]
    },
    {
      "metadata": {
        "id": "-HKwuZgCSdK6",
        "colab_type": "code",
        "outputId": "8ace97a8-a259-420d-ee3c-3a599779dfc2",
        "colab": {
          "base_uri": "https://localhost:8080/",
          "height": 172
        }
      },
      "cell_type": "code",
      "source": [
        "t0.pop()"
      ],
      "execution_count": 0,
      "outputs": [
        {
          "output_type": "error",
          "ename": "AttributeError",
          "evalue": "ignored",
          "traceback": [
            "\u001b[0;31m---------------------------------------------------------------------------\u001b[0m",
            "\u001b[0;31mAttributeError\u001b[0m                            Traceback (most recent call last)",
            "\u001b[0;32m<ipython-input-53-8864857b140d>\u001b[0m in \u001b[0;36m<module>\u001b[0;34m()\u001b[0m\n\u001b[0;32m----> 1\u001b[0;31m \u001b[0mt0\u001b[0m\u001b[0;34m.\u001b[0m\u001b[0mpop\u001b[0m\u001b[0;34m(\u001b[0m\u001b[0;34m)\u001b[0m\u001b[0;34m\u001b[0m\u001b[0;34m\u001b[0m\u001b[0m\n\u001b[0m",
            "\u001b[0;31mAttributeError\u001b[0m: 'tuple' object has no attribute 'pop'"
          ]
        }
      ]
    },
    {
      "metadata": {
        "id": "9W1A5aL1SdUf",
        "colab_type": "code",
        "outputId": "5fbb168f-42dc-4a35-abed-1d4750ec33b6",
        "colab": {
          "base_uri": "https://localhost:8080/",
          "height": 172
        }
      },
      "cell_type": "code",
      "source": [
        "t0.sort()"
      ],
      "execution_count": 0,
      "outputs": [
        {
          "output_type": "error",
          "ename": "AttributeError",
          "evalue": "ignored",
          "traceback": [
            "\u001b[0;31m---------------------------------------------------------------------------\u001b[0m",
            "\u001b[0;31mAttributeError\u001b[0m                            Traceback (most recent call last)",
            "\u001b[0;32m<ipython-input-55-590edd3141bd>\u001b[0m in \u001b[0;36m<module>\u001b[0;34m()\u001b[0m\n\u001b[0;32m----> 1\u001b[0;31m \u001b[0mt0\u001b[0m\u001b[0;34m.\u001b[0m\u001b[0msort\u001b[0m\u001b[0;34m(\u001b[0m\u001b[0;34m)\u001b[0m\u001b[0;34m\u001b[0m\u001b[0;34m\u001b[0m\u001b[0m\n\u001b[0m",
            "\u001b[0;31mAttributeError\u001b[0m: 'tuple' object has no attribute 'sort'"
          ]
        }
      ]
    },
    {
      "metadata": {
        "id": "of7LAQ9TSdYD",
        "colab_type": "code",
        "outputId": "436f2c9c-0a38-4496-ebbb-3ff0e26ec893",
        "colab": {
          "base_uri": "https://localhost:8080/",
          "height": 35
        }
      },
      "cell_type": "code",
      "source": [
        "t0[0]\n",
        "t0[:3]"
      ],
      "execution_count": 0,
      "outputs": [
        {
          "output_type": "execute_result",
          "data": {
            "text/plain": [
              "(0, 2, 4)"
            ]
          },
          "metadata": {
            "tags": []
          },
          "execution_count": 57
        }
      ]
    },
    {
      "metadata": {
        "id": "t5tmQO7M-rbD",
        "colab_type": "text"
      },
      "cell_type": "markdown",
      "source": [
        "### 딕셔너리"
      ]
    },
    {
      "metadata": {
        "id": "I5ds1Z11SdIh",
        "colab_type": "code",
        "outputId": "1fed46e1-4c92-424e-d546-4a385c090884",
        "colab": {
          "base_uri": "https://localhost:8080/",
          "height": 35
        }
      },
      "cell_type": "code",
      "source": [
        "d0 = {'mean':60, 'sd':3}\n",
        "d0"
      ],
      "execution_count": 0,
      "outputs": [
        {
          "output_type": "execute_result",
          "data": {
            "text/plain": [
              "{'mean': 60, 'sd': 3}"
            ]
          },
          "metadata": {
            "tags": []
          },
          "execution_count": 58
        }
      ]
    },
    {
      "metadata": {
        "id": "NayrRy3c5sZ1",
        "colab_type": "code",
        "colab": {}
      },
      "cell_type": "code",
      "source": [
        "d0['mean']"
      ],
      "execution_count": 0,
      "outputs": []
    },
    {
      "metadata": {
        "id": "KDNIqlRF5v_G",
        "colab_type": "code",
        "outputId": "a761ccb6-6f86-430f-e56e-032d423011bc",
        "colab": {
          "base_uri": "https://localhost:8080/",
          "height": 34
        }
      },
      "cell_type": "code",
      "source": [
        "d0.values()"
      ],
      "execution_count": 0,
      "outputs": [
        {
          "output_type": "execute_result",
          "data": {
            "text/plain": [
              "dict_values([60, 3])"
            ]
          },
          "metadata": {
            "tags": []
          },
          "execution_count": 73
        }
      ]
    },
    {
      "metadata": {
        "id": "25TnnOB75x-7",
        "colab_type": "code",
        "outputId": "f4c20dff-a0cc-4188-d403-8a854b938624",
        "colab": {
          "base_uri": "https://localhost:8080/",
          "height": 34
        }
      },
      "cell_type": "code",
      "source": [
        "60 in d0"
      ],
      "execution_count": 0,
      "outputs": [
        {
          "output_type": "execute_result",
          "data": {
            "text/plain": [
              "False"
            ]
          },
          "metadata": {
            "tags": []
          },
          "execution_count": 74
        }
      ]
    },
    {
      "metadata": {
        "id": "UqndxxVU7PoA",
        "colab_type": "code",
        "colab": {}
      },
      "cell_type": "code",
      "source": [
        "'mean' in d0"
      ],
      "execution_count": 0,
      "outputs": []
    },
    {
      "metadata": {
        "id": "qMsGGsXj-7LR",
        "colab_type": "code",
        "colab": {}
      },
      "cell_type": "code",
      "source": [
        "# 딕셔너리에 요소 추가하기\n",
        "# <딕셔너리 명>[<key>] = <value>\n",
        "d0['max'] = 107"
      ],
      "execution_count": 0,
      "outputs": []
    },
    {
      "metadata": {
        "id": "sNP0ByND59bk",
        "colab_type": "code",
        "colab": {}
      },
      "cell_type": "code",
      "source": [
        "set0 = {1,2,3,4,5}\n",
        "set1 = set(list(range(0,10,2)))"
      ],
      "execution_count": 0,
      "outputs": []
    },
    {
      "metadata": {
        "id": "imDS_hEh_k2u",
        "colab_type": "text"
      },
      "cell_type": "markdown",
      "source": [
        "변수명 지정 주의!<br>\n",
        "기존에 있는 예약어로 변수명을 넣으면 오늘의 예시처럼 코드가 작동하지 않을 수 있습니다<br>\n",
        "ex.\n",
        "set = {1,2,3,4,5}\n",
        "set1 = set(list(range(0,10,2)))<br>\n",
        "-> set이 앞에서 변수명으로 지정되었기 때문에 집합으로 만들어주는 원래의 set 함수가 작동하지 않음"
      ]
    },
    {
      "metadata": {
        "id": "YHusl4Gu6Okk",
        "colab_type": "code",
        "outputId": "e0bffcc7-9d35-4c9b-f7c0-caf5c8a8d4cd",
        "colab": {
          "base_uri": "https://localhost:8080/",
          "height": 34
        }
      },
      "cell_type": "code",
      "source": [
        "set0 & set1"
      ],
      "execution_count": 0,
      "outputs": [
        {
          "output_type": "execute_result",
          "data": {
            "text/plain": [
              "{2, 4}"
            ]
          },
          "metadata": {
            "tags": []
          },
          "execution_count": 76
        }
      ]
    },
    {
      "metadata": {
        "id": "kRRIewTBAPKv",
        "colab_type": "code",
        "colab": {}
      },
      "cell_type": "code",
      "source": [
        "set0.intersection(set1)"
      ],
      "execution_count": 0,
      "outputs": []
    },
    {
      "metadata": {
        "id": "w7JErjoaAPnq",
        "colab_type": "code",
        "colab": {}
      },
      "cell_type": "code",
      "source": [
        "set0 | set1"
      ],
      "execution_count": 0,
      "outputs": []
    },
    {
      "metadata": {
        "id": "VSobchGxAVwz",
        "colab_type": "code",
        "colab": {}
      },
      "cell_type": "code",
      "source": [
        "set0.union(set1)"
      ],
      "execution_count": 0,
      "outputs": []
    },
    {
      "metadata": {
        "id": "wLN8-WxNAWeA",
        "colab_type": "code",
        "colab": {}
      },
      "cell_type": "code",
      "source": [
        "set0 - set1"
      ],
      "execution_count": 0,
      "outputs": []
    },
    {
      "metadata": {
        "id": "Ir0u7xcaAaQH",
        "colab_type": "code",
        "colab": {}
      },
      "cell_type": "code",
      "source": [
        "set0.difference(set1)"
      ],
      "execution_count": 0,
      "outputs": []
    },
    {
      "metadata": {
        "id": "6pJIV_K4AppP",
        "colab_type": "code",
        "colab": {}
      },
      "cell_type": "code",
      "source": [
        "set1.difference(set0)"
      ],
      "execution_count": 0,
      "outputs": []
    },
    {
      "metadata": {
        "id": "hX2QH8lyAssW",
        "colab_type": "code",
        "colab": {}
      },
      "cell_type": "code",
      "source": [
        "# 집합에 원소 추가하기\n",
        "set1.add(100)\n",
        "set1"
      ],
      "execution_count": 0,
      "outputs": []
    },
    {
      "metadata": {
        "id": "z2AKGdemA3ND",
        "colab_type": "code",
        "colab": {}
      },
      "cell_type": "code",
      "source": [
        "set1.update([300,400])\n",
        "set1"
      ],
      "execution_count": 0,
      "outputs": []
    },
    {
      "metadata": {
        "id": "kNfIELncA62p",
        "colab_type": "code",
        "colab": {}
      },
      "cell_type": "code",
      "source": [
        "set1.remove(100)"
      ],
      "execution_count": 0,
      "outputs": []
    },
    {
      "metadata": {
        "id": "tVF0ebBdBQfG",
        "colab_type": "text"
      },
      "cell_type": "markdown",
      "source": [
        "### 자료형 변환 실습<br>\n",
        "-> 귀찮더라도 꼭 손으로 직접 쳐보면서 눈으로 확인하세요!"
      ]
    },
    {
      "metadata": {
        "id": "hJ9PsI6zBOvs",
        "colab_type": "code",
        "colab": {}
      },
      "cell_type": "code",
      "source": [
        ""
      ],
      "execution_count": 0,
      "outputs": []
    },
    {
      "metadata": {
        "id": "qLi8aKXc__X-",
        "colab_type": "text"
      },
      "cell_type": "markdown",
      "source": [
        "# 제어문"
      ]
    },
    {
      "metadata": {
        "id": "yyMZXXaaBvxT",
        "colab_type": "text"
      },
      "cell_type": "markdown",
      "source": [
        "## if 문"
      ]
    },
    {
      "metadata": {
        "id": "FYEoeCvUZFK3",
        "colab_type": "code",
        "colab": {}
      },
      "cell_type": "code",
      "source": [
        "a=0\n",
        "if a ==0:\n",
        "  print('zero')"
      ],
      "execution_count": 0,
      "outputs": []
    },
    {
      "metadata": {
        "id": "0xyf_4EQBmLa",
        "colab_type": "code",
        "colab": {}
      },
      "cell_type": "code",
      "source": [
        "a=3\n",
        "if a ==0:\n",
        "  print('zero')"
      ],
      "execution_count": 0,
      "outputs": []
    },
    {
      "metadata": {
        "id": "4v1j83FtZdtE",
        "colab_type": "code",
        "outputId": "880db79d-f614-429a-e29a-e52dc2464548",
        "colab": {
          "base_uri": "https://localhost:8080/",
          "height": 34
        }
      },
      "cell_type": "code",
      "source": [
        "b = True\n",
        "c = 3\n",
        "if c is not b:\n",
        "  print('not same')"
      ],
      "execution_count": 0,
      "outputs": [
        {
          "output_type": "stream",
          "text": [
            "not same\n"
          ],
          "name": "stdout"
        }
      ]
    },
    {
      "metadata": {
        "id": "-wKrU83iCTBI",
        "colab_type": "code",
        "colab": {}
      },
      "cell_type": "code",
      "source": [
        "b = True\n",
        "c = 1\n",
        "if c != b: # True를 1로 표시하기도\n",
        "  print('not same')"
      ],
      "execution_count": 0,
      "outputs": []
    },
    {
      "metadata": {
        "id": "1gYs-l6tDSYc",
        "colab_type": "text"
      },
      "cell_type": "markdown",
      "source": [
        "if / else"
      ]
    },
    {
      "metadata": {
        "id": "8gB4yNh-Z3p_",
        "colab_type": "code",
        "outputId": "07faeb43-27e0-4eaf-e950-7b8738083e9e",
        "colab": {
          "base_uri": "https://localhost:8080/",
          "height": 34
        }
      },
      "cell_type": "code",
      "source": [
        "a = 3\n",
        "if a == 0:\n",
        "  print('zero')\n",
        "else:\n",
        "  print('not zero')"
      ],
      "execution_count": 0,
      "outputs": [
        {
          "output_type": "stream",
          "text": [
            "not zero\n"
          ],
          "name": "stdout"
        }
      ]
    },
    {
      "metadata": {
        "id": "QFmDgBGtCwal",
        "colab_type": "code",
        "colab": {}
      },
      "cell_type": "code",
      "source": [
        "b = False\n",
        "c = 0\n",
        "if c != b: # False를 0으로 표시하기도\n",
        "  print('not same')\n",
        "else:\n",
        "  print('same')"
      ],
      "execution_count": 0,
      "outputs": []
    },
    {
      "metadata": {
        "id": "3QvA-EZ0DVlm",
        "colab_type": "text"
      },
      "cell_type": "markdown",
      "source": [
        "if / elif / else"
      ]
    },
    {
      "metadata": {
        "id": "2EBtfQtQ6UH1",
        "colab_type": "code",
        "outputId": "f7a496e2-e44d-45c4-d5a8-2beabd6677c9",
        "colab": {
          "base_uri": "https://localhost:8080/",
          "height": 34
        }
      },
      "cell_type": "code",
      "source": [
        "date = 15\n",
        "if date <=10:\n",
        "  print('early')\n",
        "elif (date>10) and (date<=20):\n",
        "  print('middle')\n",
        "else:\n",
        "  print('late')"
      ],
      "execution_count": 0,
      "outputs": [
        {
          "output_type": "stream",
          "text": [
            "middle\n"
          ],
          "name": "stdout"
        }
      ]
    },
    {
      "metadata": {
        "id": "CEiwjDUdDbPo",
        "colab_type": "text"
      },
      "cell_type": "markdown",
      "source": [
        "## for 문"
      ]
    },
    {
      "metadata": {
        "id": "rjiqKXuU7fN9",
        "colab_type": "code",
        "outputId": "336c9149-f6e9-4e3e-af2a-8d87b8049222",
        "colab": {
          "base_uri": "https://localhost:8080/",
          "height": 175
        }
      },
      "cell_type": "code",
      "source": [
        "for i in list(range(1,10,1)): # [1,2,3,4,5,6,7,8,9]\n",
        "\tprint(\"{}번 학생입니다\".format(i))"
      ],
      "execution_count": 0,
      "outputs": [
        {
          "output_type": "stream",
          "text": [
            "1번 학생입니다\n",
            "2번 학생입니다\n",
            "3번 학생입니다\n",
            "4번 학생입니다\n",
            "5번 학생입니다\n",
            "6번 학생입니다\n",
            "7번 학생입니다\n",
            "8번 학생입니다\n",
            "9번 학생입니다\n"
          ],
          "name": "stdout"
        }
      ]
    },
    {
      "metadata": {
        "id": "L9lDvHp210Vk",
        "colab_type": "code",
        "outputId": "1af2e671-900d-4c7c-ab26-26e5b59e558c",
        "colab": {
          "base_uri": "https://localhost:8080/",
          "height": 70
        }
      },
      "cell_type": "code",
      "source": [
        "x = [(1,2),(3,4),(5,6)]\n",
        "for (i,j) in x :\n",
        "\tprint(i*j)"
      ],
      "execution_count": 0,
      "outputs": [
        {
          "output_type": "stream",
          "text": [
            "2\n",
            "12\n",
            "30\n"
          ],
          "name": "stdout"
        }
      ]
    },
    {
      "metadata": {
        "id": "HNCdqqg683zq",
        "colab_type": "code",
        "outputId": "aa2fb243-4620-4ce6-aa96-e92d9bac3e45",
        "colab": {
          "base_uri": "https://localhost:8080/",
          "height": 1442
        }
      },
      "cell_type": "code",
      "source": [
        "for idx, i in enumerate(list(range(1,10))): # enumerate : index와 element를 함께 반환\n",
        "\tfor j in range(1,10):\n",
        "\t\tprint(idx+1, i*j)"
      ],
      "execution_count": 0,
      "outputs": [
        {
          "output_type": "stream",
          "text": [
            "1 1\n",
            "1 2\n",
            "1 3\n",
            "1 4\n",
            "1 5\n",
            "1 6\n",
            "1 7\n",
            "1 8\n",
            "1 9\n",
            "2 2\n",
            "2 4\n",
            "2 6\n",
            "2 8\n",
            "2 10\n",
            "2 12\n",
            "2 14\n",
            "2 16\n",
            "2 18\n",
            "3 3\n",
            "3 6\n",
            "3 9\n",
            "3 12\n",
            "3 15\n",
            "3 18\n",
            "3 21\n",
            "3 24\n",
            "3 27\n",
            "4 4\n",
            "4 8\n",
            "4 12\n",
            "4 16\n",
            "4 20\n",
            "4 24\n",
            "4 28\n",
            "4 32\n",
            "4 36\n",
            "5 5\n",
            "5 10\n",
            "5 15\n",
            "5 20\n",
            "5 25\n",
            "5 30\n",
            "5 35\n",
            "5 40\n",
            "5 45\n",
            "6 6\n",
            "6 12\n",
            "6 18\n",
            "6 24\n",
            "6 30\n",
            "6 36\n",
            "6 42\n",
            "6 48\n",
            "6 54\n",
            "7 7\n",
            "7 14\n",
            "7 21\n",
            "7 28\n",
            "7 35\n",
            "7 42\n",
            "7 49\n",
            "7 56\n",
            "7 63\n",
            "8 8\n",
            "8 16\n",
            "8 24\n",
            "8 32\n",
            "8 40\n",
            "8 48\n",
            "8 56\n",
            "8 64\n",
            "8 72\n",
            "9 9\n",
            "9 18\n",
            "9 27\n",
            "9 36\n",
            "9 45\n",
            "9 54\n",
            "9 63\n",
            "9 72\n",
            "9 81\n"
          ],
          "name": "stdout"
        }
      ]
    },
    {
      "metadata": {
        "id": "XuoSXWnZD_5h",
        "colab_type": "code",
        "colab": {}
      },
      "cell_type": "code",
      "source": [
        "for idx, i in enumerate(list(range(1,10))):\n",
        "  print(idx,i)"
      ],
      "execution_count": 0,
      "outputs": []
    },
    {
      "metadata": {
        "id": "LeVn3JOoce0n",
        "colab_type": "code",
        "outputId": "70699de5-2565-45e3-9d87-4103a1198b45",
        "colab": {
          "base_uri": "https://localhost:8080/",
          "height": 175
        }
      },
      "cell_type": "code",
      "source": [
        "for j in range(1,10):\n",
        "  print(j)"
      ],
      "execution_count": 0,
      "outputs": [
        {
          "output_type": "stream",
          "text": [
            "1\n",
            "2\n",
            "3\n",
            "4\n",
            "5\n",
            "6\n",
            "7\n",
            "8\n",
            "9\n"
          ],
          "name": "stdout"
        }
      ]
    },
    {
      "metadata": {
        "id": "DPWaTFkGK0de",
        "colab_type": "code",
        "colab": {}
      },
      "cell_type": "code",
      "source": [
        "for idx, i in enumerate(list(range(1,10))): # enumerate : index와 element를 함께 반환\n",
        "\tprint(idx+1)\n",
        "  for j in range(1,10):\n",
        "\t\tprint(i*j)"
      ],
      "execution_count": 0,
      "outputs": []
    },
    {
      "metadata": {
        "id": "Kmy9n7NJEKEk",
        "colab_type": "text"
      },
      "cell_type": "markdown",
      "source": [
        "## while 문"
      ]
    },
    {
      "metadata": {
        "id": "l7MncbNy836m",
        "colab_type": "code",
        "outputId": "4ed922db-746b-4cdd-a735-c1034af12597",
        "colab": {
          "base_uri": "https://localhost:8080/",
          "height": 105
        }
      },
      "cell_type": "code",
      "source": [
        "a = 0\n",
        "while a < 5:\n",
        "  print(a)\n",
        "  a += 1"
      ],
      "execution_count": 0,
      "outputs": [
        {
          "output_type": "stream",
          "text": [
            "0\n",
            "1\n",
            "2\n",
            "3\n",
            "4\n"
          ],
          "name": "stdout"
        }
      ]
    },
    {
      "metadata": {
        "id": "Zvoj26Bs839F",
        "colab_type": "code",
        "outputId": "c380578a-f190-4b43-881a-f841f0048aed",
        "colab": {
          "base_uri": "https://localhost:8080/",
          "height": 193
        }
      },
      "cell_type": "code",
      "source": [
        "a = 0\n",
        "while True:\n",
        "  a += 1\n",
        "  if a > 10:\n",
        "    break\n",
        "  print(a)"
      ],
      "execution_count": 0,
      "outputs": [
        {
          "output_type": "stream",
          "text": [
            "1\n",
            "2\n",
            "3\n",
            "4\n",
            "5\n",
            "6\n",
            "7\n",
            "8\n",
            "9\n",
            "10\n"
          ],
          "name": "stdout"
        }
      ]
    },
    {
      "metadata": {
        "id": "G0WGZpE9HdQu",
        "colab_type": "code",
        "colab": {}
      },
      "cell_type": "code",
      "source": [
        "num = 10\n",
        "for i in range(1, num+1):\n",
        "  if i % 2 == 1:\n",
        "    continue\n",
        "    print(i)"
      ],
      "execution_count": 0,
      "outputs": []
    },
    {
      "metadata": {
        "id": "xqXg-rF484QO",
        "colab_type": "code",
        "outputId": "10815044-f32a-42ec-ee1d-36d4dcab106b",
        "colab": {
          "base_uri": "https://localhost:8080/",
          "height": 105
        }
      },
      "cell_type": "code",
      "source": [
        "for i in range(1, num+1):\n",
        "  if i % 2 == 1:\n",
        "    continue\n",
        "  print(i)"
      ],
      "execution_count": 0,
      "outputs": [
        {
          "output_type": "stream",
          "text": [
            "2\n",
            "4\n",
            "6\n",
            "8\n",
            "10\n"
          ],
          "name": "stdout"
        }
      ]
    },
    {
      "metadata": {
        "id": "xdgHimG9_6An",
        "colab_type": "text"
      },
      "cell_type": "markdown",
      "source": [
        "### 입출력 함수"
      ]
    },
    {
      "metadata": {
        "id": "hVHWNCKU84aH",
        "colab_type": "code",
        "outputId": "afe9850c-bd6c-4d1a-a7af-15a5820eec6f",
        "colab": {
          "base_uri": "https://localhost:8080/",
          "height": 34
        }
      },
      "cell_type": "code",
      "source": [
        "answer = input(\"Do you like coffee? : \")"
      ],
      "execution_count": 0,
      "outputs": [
        {
          "output_type": "stream",
          "text": [
            "Do you like coffee? : Yes\n"
          ],
          "name": "stdout"
        }
      ]
    },
    {
      "metadata": {
        "id": "WzPnxoijfeMl",
        "colab_type": "code",
        "outputId": "b37e5f94-56c4-4bf9-ee84-8e563b0bcc8b",
        "colab": {
          "base_uri": "https://localhost:8080/",
          "height": 34
        }
      },
      "cell_type": "code",
      "source": [
        "answer"
      ],
      "execution_count": 0,
      "outputs": [
        {
          "output_type": "execute_result",
          "data": {
            "text/plain": [
              "'Yes'"
            ]
          },
          "metadata": {
            "tags": []
          },
          "execution_count": 6
        }
      ]
    },
    {
      "metadata": {
        "id": "7e7WqSuzw7LI",
        "colab_type": "code",
        "outputId": "84507187-f828-4fa5-a45e-90d8f36f13bb",
        "colab": {
          "base_uri": "https://localhost:8080/",
          "height": 34
        }
      },
      "cell_type": "code",
      "source": [
        "id, passwd = input(\"Write your id and passwd : \").split(\" \")"
      ],
      "execution_count": 0,
      "outputs": [
        {
          "output_type": "stream",
          "text": [
            "Write your id and passwd : id pw\n"
          ],
          "name": "stdout"
        }
      ]
    },
    {
      "metadata": {
        "id": "iIUTbqHsMYyH",
        "colab_type": "code",
        "outputId": "3919d8bd-73db-41e0-b30a-e783bfcffeed",
        "colab": {
          "base_uri": "https://localhost:8080/",
          "height": 34
        }
      },
      "cell_type": "code",
      "source": [
        "print(id, passwd)"
      ],
      "execution_count": 0,
      "outputs": [
        {
          "output_type": "stream",
          "text": [
            "id pw\n"
          ],
          "name": "stdout"
        }
      ]
    },
    {
      "metadata": {
        "id": "qUOCq42J-57z",
        "colab_type": "code",
        "outputId": "142076a2-201f-45b8-97c7-f1cd3f7fbab3",
        "colab": {
          "base_uri": "https://localhost:8080/",
          "height": 34
        }
      },
      "cell_type": "code",
      "source": [
        "id, passwd = input(\"Write your id and passwd : \").split(\",\")"
      ],
      "execution_count": 0,
      "outputs": [
        {
          "output_type": "stream",
          "text": [
            "Write your id and passwd : id, pwd\n"
          ],
          "name": "stdout"
        }
      ]
    },
    {
      "metadata": {
        "id": "bZ158avl-5-9",
        "colab_type": "code",
        "outputId": "d55154c9-bcc9-47e1-8c29-4c2e5dae48da",
        "colab": {
          "base_uri": "https://localhost:8080/",
          "height": 52
        }
      },
      "cell_type": "code",
      "source": [
        "print('id는'+id+'입니다')\n",
        "print('password는'+passwd+'입니다')"
      ],
      "execution_count": 0,
      "outputs": [
        {
          "output_type": "stream",
          "text": [
            "id는id입니다\n",
            "password는 pwd입니다\n"
          ],
          "name": "stdout"
        }
      ]
    },
    {
      "metadata": {
        "id": "ebok9gx4-6El",
        "colab_type": "code",
        "outputId": "2f43eaa0-b561-44ce-b53c-b3d5dc3c0906",
        "colab": {
          "base_uri": "https://localhost:8080/",
          "height": 34
        }
      },
      "cell_type": "code",
      "source": [
        "print(\"hello\"+\"world\")"
      ],
      "execution_count": 0,
      "outputs": [
        {
          "output_type": "stream",
          "text": [
            "helloworld\n"
          ],
          "name": "stdout"
        }
      ]
    },
    {
      "metadata": {
        "id": "PNxbKs1s_RcG",
        "colab_type": "code",
        "outputId": "485c8ee7-7b41-4fd4-b6db-3e6f5c746e81",
        "colab": {
          "base_uri": "https://localhost:8080/",
          "height": 34
        }
      },
      "cell_type": "code",
      "source": [
        "print(\"hello\"*2)"
      ],
      "execution_count": 0,
      "outputs": [
        {
          "output_type": "stream",
          "text": [
            "hellohello\n"
          ],
          "name": "stdout"
        }
      ]
    },
    {
      "metadata": {
        "id": "DRbE7kcB_Yf3",
        "colab_type": "code",
        "outputId": "df20071a-c553-43d7-f660-cb1ed314531f",
        "colab": {
          "base_uri": "https://localhost:8080/",
          "height": 34
        }
      },
      "cell_type": "code",
      "source": [
        "print(\"hello\", \"world\")"
      ],
      "execution_count": 0,
      "outputs": [
        {
          "output_type": "stream",
          "text": [
            "hello world\n"
          ],
          "name": "stdout"
        }
      ]
    },
    {
      "metadata": {
        "id": "l0oCGoZNyUdi",
        "colab_type": "code",
        "outputId": "78981f2c-ea42-4be8-d7fd-b80e5341aa5a",
        "colab": {
          "base_uri": "https://localhost:8080/",
          "height": 34
        }
      },
      "cell_type": "code",
      "source": [
        "print(\"hello\",\"world\",\"python\", sep =\"&\")"
      ],
      "execution_count": 0,
      "outputs": [
        {
          "output_type": "stream",
          "text": [
            "hello&world&python\n"
          ],
          "name": "stdout"
        }
      ]
    },
    {
      "metadata": {
        "id": "IdtABDbWywy2",
        "colab_type": "code",
        "outputId": "03f65e61-d42f-482c-aadc-cbb075b9232f",
        "colab": {
          "base_uri": "https://localhost:8080/",
          "height": 34
        }
      },
      "cell_type": "code",
      "source": [
        "print(\"hello\", \"world\",\"python\", end=\"-!\")"
      ],
      "execution_count": 0,
      "outputs": [
        {
          "output_type": "stream",
          "text": [
            "hello world python-!"
          ],
          "name": "stdout"
        }
      ]
    },
    {
      "metadata": {
        "id": "MZSW5p1zFejh",
        "colab_type": "text"
      },
      "cell_type": "markdown",
      "source": [
        "# 함수"
      ]
    },
    {
      "metadata": {
        "id": "wcRg-zMH_wGE",
        "colab_type": "text"
      },
      "cell_type": "markdown",
      "source": [
        "#### 파일  입출력"
      ]
    },
    {
      "metadata": {
        "id": "xIh3OzGzQm7_",
        "colab_type": "code",
        "colab": {}
      },
      "cell_type": "code",
      "source": [
        "f0 = open('test.txt','w')\n",
        "f0.write(\"Let's try file i/o example!\")\n",
        "f0.close()"
      ],
      "execution_count": 0,
      "outputs": []
    },
    {
      "metadata": {
        "id": "bH2BMlpiS-Ia",
        "colab_type": "code",
        "outputId": "1247e437-d876-4a5f-e4a1-859cd280d35e",
        "colab": {
          "base_uri": "https://localhost:8080/",
          "height": 34
        }
      },
      "cell_type": "code",
      "source": [
        "! ls"
      ],
      "execution_count": 0,
      "outputs": [
        {
          "output_type": "stream",
          "text": [
            "sample_data  test.txt\n"
          ],
          "name": "stdout"
        }
      ]
    },
    {
      "metadata": {
        "id": "qp7rj-QsAUN7",
        "colab_type": "code",
        "outputId": "76ca942f-3f6b-49ad-b5dc-2725f54a292a",
        "colab": {
          "base_uri": "https://localhost:8080/",
          "height": 34
        }
      },
      "cell_type": "code",
      "source": [
        "! cat test.txt"
      ],
      "execution_count": 0,
      "outputs": [
        {
          "output_type": "stream",
          "text": [
            "Let's try file i/o example!"
          ],
          "name": "stdout"
        }
      ]
    },
    {
      "metadata": {
        "id": "23un-j9QS_CA",
        "colab_type": "code",
        "colab": {}
      },
      "cell_type": "code",
      "source": [
        "f1 = open('test.txt','a')\n",
        "for val in range(10):\n",
        "  f1.write(str(val))\n",
        "#   f1.write('\\n'+str(val))\n",
        "f1.close()"
      ],
      "execution_count": 0,
      "outputs": []
    },
    {
      "metadata": {
        "id": "FBouiijdTBuS",
        "colab_type": "code",
        "outputId": "fef75b37-58dd-4c73-a6a2-fbc694b552e0",
        "colab": {
          "base_uri": "https://localhost:8080/",
          "height": 34
        }
      },
      "cell_type": "code",
      "source": [
        "!cat test.txt"
      ],
      "execution_count": 0,
      "outputs": [
        {
          "output_type": "stream",
          "text": [
            "0123456789"
          ],
          "name": "stdout"
        }
      ]
    },
    {
      "metadata": {
        "id": "hApbjkHxJfjZ",
        "colab_type": "text"
      },
      "cell_type": "markdown",
      "source": [
        "'a' -> 'r'"
      ]
    },
    {
      "metadata": {
        "colab_type": "code",
        "id": "71RtvKBmJczE",
        "colab": {}
      },
      "cell_type": "code",
      "source": [
        "f1 = open('test.txt','r')\n",
        "for val in range(10):\n",
        "#   f1.write('\\t'+str(val))\n",
        "f1.close()"
      ],
      "execution_count": 0,
      "outputs": []
    },
    {
      "metadata": {
        "colab_type": "code",
        "outputId": "fef75b37-58dd-4c73-a6a2-fbc694b552e0",
        "id": "6ObXauKHJczK",
        "colab": {
          "base_uri": "https://localhost:8080/",
          "height": 34
        }
      },
      "cell_type": "code",
      "source": [
        "!cat test.txt"
      ],
      "execution_count": 0,
      "outputs": [
        {
          "output_type": "stream",
          "text": [
            "0123456789"
          ],
          "name": "stdout"
        }
      ]
    },
    {
      "metadata": {
        "id": "ofzBltlLAwZH",
        "colab_type": "text"
      },
      "cell_type": "markdown",
      "source": [
        "### 기본 함수"
      ]
    },
    {
      "metadata": {
        "id": "xTNDnhxjjNov",
        "colab_type": "code",
        "colab": {}
      },
      "cell_type": "code",
      "source": [
        "abs(-3.17)"
      ],
      "execution_count": 0,
      "outputs": []
    },
    {
      "metadata": {
        "id": "TYwMQvxmjPLh",
        "colab_type": "code",
        "outputId": "8003094f-fd8c-4ac5-9dcc-9215da62b992",
        "colab": {
          "base_uri": "https://localhost:8080/",
          "height": 34
        }
      },
      "cell_type": "code",
      "source": [
        "round(3.177,2)"
      ],
      "execution_count": 0,
      "outputs": [
        {
          "output_type": "execute_result",
          "data": {
            "text/plain": [
              "3.18"
            ]
          },
          "metadata": {
            "tags": []
          },
          "execution_count": 32
        }
      ]
    },
    {
      "metadata": {
        "id": "-ZszF-zkjT7n",
        "colab_type": "code",
        "outputId": "9b98731e-bb6a-4112-cf10-6ada8dfb00a4",
        "colab": {
          "base_uri": "https://localhost:8080/",
          "height": 34
        }
      },
      "cell_type": "code",
      "source": [
        "round(-3.177)"
      ],
      "execution_count": 0,
      "outputs": [
        {
          "output_type": "execute_result",
          "data": {
            "text/plain": [
              "-3"
            ]
          },
          "metadata": {
            "tags": []
          },
          "execution_count": 31
        }
      ]
    },
    {
      "metadata": {
        "id": "IJfyon0ZAeSX",
        "colab_type": "code",
        "outputId": "330b3eb4-2383-4554-cc49-28c7ed46cfba",
        "colab": {
          "base_uri": "https://localhost:8080/",
          "height": 34
        }
      },
      "cell_type": "code",
      "source": [
        "k = [1,0,-8,15,3]\n",
        "k"
      ],
      "execution_count": 0,
      "outputs": [
        {
          "output_type": "execute_result",
          "data": {
            "text/plain": [
              "[1, 0, -8, 15, 3]"
            ]
          },
          "metadata": {
            "tags": []
          },
          "execution_count": 34
        }
      ]
    },
    {
      "metadata": {
        "id": "H0j-2wmgjg_m",
        "colab_type": "code",
        "outputId": "5fc62772-a30c-4418-d861-ed4e4032cb88",
        "colab": {
          "base_uri": "https://localhost:8080/",
          "height": 34
        }
      },
      "cell_type": "code",
      "source": [
        "print(min(k),max(k))"
      ],
      "execution_count": 0,
      "outputs": [
        {
          "output_type": "stream",
          "text": [
            "-8 15\n"
          ],
          "name": "stdout"
        }
      ]
    },
    {
      "metadata": {
        "id": "2tqPlTAeju5a",
        "colab_type": "code",
        "outputId": "16ce28a3-0871-4644-a04c-1f939dd7eae7",
        "colab": {
          "base_uri": "https://localhost:8080/",
          "height": 34
        }
      },
      "cell_type": "code",
      "source": [
        "sum(k)"
      ],
      "execution_count": 0,
      "outputs": [
        {
          "output_type": "execute_result",
          "data": {
            "text/plain": [
              "11"
            ]
          },
          "metadata": {
            "tags": []
          },
          "execution_count": 36
        }
      ]
    }
  ]
}